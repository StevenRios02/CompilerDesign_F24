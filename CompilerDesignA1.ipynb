{
  "nbformat": 4,
  "nbformat_minor": 0,
  "metadata": {
    "colab": {
      "provenance": []
    },
    "kernelspec": {
      "name": "python3",
      "display_name": "Python 3"
    },
    "language_info": {
      "name": "python"
    }
  },
  "cells": [
    {
      "cell_type": "code",
      "execution_count": null,
      "metadata": {
        "id": "L5BTJhgVGGhO",
        "colab": {
          "base_uri": "https://localhost:8080/"
        },
        "outputId": "b5b1fdd5-ea74-4955-f0d1-17e220e9f284"
      },
      "outputs": [
        {
          "output_type": "stream",
          "name": "stdout",
          "text": [
            "Overwriting LexicalAnalysis.cpp\n"
          ]
        }
      ],
      "source": [
        "%%writefile LexicalAnalysis.cpp\n",
        "#include<iostream>\n",
        "#include<fstream>\n",
        "#include<string>\n",
        "#include<cctype>\n",
        "using namespace std;\n",
        "\n",
        "int main()\n",
        "{\n",
        "  ifstream inputFile(\"assignment1.txt\");\n",
        "\n",
        "  if (!inputFile.is_open())\n",
        "  {\n",
        "    cout << \"Error opening the file.\" << endl;\n",
        "    return 1;\n",
        "  }\n",
        "\n",
        "  char ch;\n",
        "  string currentWord;\n",
        "\n",
        "  while (inputFile.get(ch))\n",
        "  {\n",
        "    if (isalpha(ch)||isdigit(ch)||ispunct(ch))\n",
        "    {\n",
        "      currentWord += ch;\n",
        "    }\n",
        "    else if (!currentWord.empty())\n",
        "      {\n",
        "        cout << currentWord << endl;\n",
        "        currentWord.clear();\n",
        "      }\n",
        "    }\n",
        "\n",
        "    inputFile.close();\n",
        "    return 0;\n",
        "}\n",
        "\n"
      ]
    },
    {
      "cell_type": "code",
      "source": [],
      "metadata": {
        "id": "UwVMpgtc2wjG"
      },
      "execution_count": null,
      "outputs": []
    },
    {
      "cell_type": "code",
      "source": [
        "%%shell\n",
        "g++ LexicalAnalysis.cpp -o Assignment_1.cpp\n",
        "./Assignment_1.cpp\n"
      ],
      "metadata": {
        "colab": {
          "base_uri": "https://localhost:8080/"
        },
        "id": "eV8oB7bFL7S1",
        "outputId": "350cebf7-7723-4510-8761-f130278674b3"
      },
      "execution_count": null,
      "outputs": [
        {
          "output_type": "stream",
          "name": "stdout",
          "text": [
            "This\n",
            "is\n",
            "the\n",
            "text\n",
            "file\n",
            "used\n",
            "in\n",
            "assignment\n",
            "1\n",
            "of\n",
            "Compiler\n",
            "Design\n",
            "(\n",
            "Fall\n",
            "'\n",
            "24\n"
          ]
        },
        {
          "output_type": "execute_result",
          "data": {
            "text/plain": []
          },
          "metadata": {},
          "execution_count": 26
        }
      ]
    }
  ]
}